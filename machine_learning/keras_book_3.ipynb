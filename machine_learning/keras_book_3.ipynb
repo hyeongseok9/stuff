{
 "cells": [
  {
   "cell_type": "code",
   "execution_count": 4,
   "metadata": {},
   "outputs": [
    {
     "name": "stdout",
     "output_type": "stream",
     "text": [
      "Epoch 1/10\n",
      "480/480 [==============================] - 1s 2ms/step - loss: 0.7117 - accuracy: 0.7985 - val_loss: 0.1856 - val_accuracy: 0.9454\n",
      "Epoch 2/10\n",
      "480/480 [==============================] - 1s 2ms/step - loss: 0.1707 - accuracy: 0.9498 - val_loss: 0.1308 - val_accuracy: 0.9622\n",
      "Epoch 3/10\n",
      "480/480 [==============================] - 1s 2ms/step - loss: 0.1131 - accuracy: 0.9670 - val_loss: 0.1124 - val_accuracy: 0.9667\n",
      "Epoch 4/10\n",
      "480/480 [==============================] - 1s 2ms/step - loss: 0.0872 - accuracy: 0.9733 - val_loss: 0.1058 - val_accuracy: 0.9662\n",
      "Epoch 5/10\n",
      "480/480 [==============================] - 1s 2ms/step - loss: 0.0677 - accuracy: 0.9794 - val_loss: 0.1073 - val_accuracy: 0.9680\n",
      "Epoch 6/10\n",
      "480/480 [==============================] - 1s 2ms/step - loss: 0.0552 - accuracy: 0.9838 - val_loss: 0.1012 - val_accuracy: 0.9706\n",
      "Epoch 7/10\n",
      "480/480 [==============================] - 1s 2ms/step - loss: 0.0454 - accuracy: 0.9866 - val_loss: 0.0988 - val_accuracy: 0.9724\n",
      "Epoch 8/10\n",
      "480/480 [==============================] - 1s 2ms/step - loss: 0.0361 - accuracy: 0.9909 - val_loss: 0.0913 - val_accuracy: 0.9728\n",
      "Epoch 9/10\n",
      "480/480 [==============================] - 1s 2ms/step - loss: 0.0276 - accuracy: 0.9922 - val_loss: 0.0992 - val_accuracy: 0.9720\n",
      "Epoch 10/10\n",
      "480/480 [==============================] - 1s 2ms/step - loss: 0.0254 - accuracy: 0.9922 - val_loss: 0.0982 - val_accuracy: 0.9726\n",
      "100/100 [==============================] - 0s 869us/step - loss: 0.0884 - accuracy: 0.9748\n",
      "Test Loss and Accuracy -> [0.0883529931306839, 0.9747999906539917]\n"
     ]
    }
   ],
   "source": [
    "Nin = 784\n",
    "Nh_l = [100,50]\n",
    "number_of_class = 10\n",
    "Nout = number_of_class\n",
    "\n",
    "from keras import layers, models\n",
    "class DNN(models.Sequential):\n",
    "    def __init__(self, Nin, Nh_l, Nout):\n",
    "        super().__init__()\n",
    "        self.add(layers.Dense(Nh_l[0], activation='relu',\n",
    "                              input_shape=(Nin, ), name='Hidden-1'))\n",
    "        self.add(layers.Dense(Nh_l[1], activation='relu', name='Hidden-2'))\n",
    "        self.add(layers.Dense(Nout, activation='softmax'))\n",
    "        self.compile(loss='categorical_crossentropy',\n",
    "                     optimizer='adam',\n",
    "                     metrics=['accuracy'])\n",
    "\n",
    "import numpy as np\n",
    "from keras import datasets\n",
    "from keras.utils import np_utils\n",
    "(X_train, y_train), (X_test, y_test) = datasets.mnist.load_data()\n",
    "y_train = np_utils.to_categorical(y_train)\n",
    "y_test = np_utils.to_categorical(y_test)\n",
    "L, W, H = X_train.shape\n",
    "X_train = X_train.reshape(-1, W * H)\n",
    "X_test = X_test.reshape(-1, W*H)\n",
    "X_train = X_train / 255.0\n",
    "X_test = X_test /255.0\n",
    "\n",
    "model = DNN(Nin, Nh_l, Nout)\n",
    "history = model.fit(X_train, y_train, epochs=10, batch_size=100,\n",
    "                   validation_split=0.2)\n",
    "performance_test = model.evaluate(X_test, y_test, batch_size=100)\n",
    "print('Test Loss and Accuracy ->', performance_test)"
   ]
  },
  {
   "cell_type": "code",
   "execution_count": null,
   "metadata": {},
   "outputs": [],
   "source": []
  }
 ],
 "metadata": {
  "kernelspec": {
   "display_name": "Python 3",
   "language": "python",
   "name": "python3"
  },
  "language_info": {
   "codemirror_mode": {
    "name": "ipython",
    "version": 3
   },
   "file_extension": ".py",
   "mimetype": "text/x-python",
   "name": "python",
   "nbconvert_exporter": "python",
   "pygments_lexer": "ipython3",
   "version": "3.8.5"
  }
 },
 "nbformat": 4,
 "nbformat_minor": 4
}
