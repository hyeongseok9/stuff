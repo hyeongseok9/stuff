{
 "cells": [
  {
   "cell_type": "code",
   "execution_count": null,
   "id": "a5a9cd09",
   "metadata": {},
   "outputs": [],
   "source": [
    "import pandas as pd\n",
    "\n",
    "import requests \n",
    "curlcmdlines = \"\"\"curl 'https://self.whatap.io/yard/api?type=sm&pcode=11&path=%2Foid%2F86578352%2Fcube%2Fhour&params=%7B%22item%22%3A%22disks%22%2C%22stime%22%3A1622980474567%2C%22etime%22%3A1623585274567%7D' \n",
    "  -H 'Connection: keep-alive' \n",
    "  -H 'sec-ch-ua: \" Not;A Brand\";v=\"99\", \"Microsoft Edge\";v=\"91\", \"Chromium\";v=\"91\"' \n",
    "  -H 'pragma: no-cache' \n",
    "  -H 'cache-control: no-cache' \n",
    "  -H 'sec-ch-ua-mobile: ?0' \n",
    "  -H 'User-Agent: Mozilla/5.0 (Windows NT 10.0; Win64; x64) AppleWebKit/537.36 (KHTML, like Gecko) Chrome/91.0.4472.101 Safari/537.36 Edg/91.0.864.48' \n",
    "  -H 'Accept: */*' \n",
    "  -H 'Sec-Fetch-Site: same-origin' \n",
    "  -H 'Sec-Fetch-Mode: cors' \n",
    "  -H 'Sec-Fetch-Dest: empty' \n",
    "  -H 'Referer: https://self.whatap.io/v2/project/sms/11/server_detail?oid=86578352' \n",
    "  -H 'Accept-Language: ko,en;q=0.9,en-US;q=0.8' \n",
    "  -H 'Cookie: _gcl_au=1.1.867332439.1621328905; _fbp=fb.1.1621328904731.1928817789; _ga=GA1.2.73872690.1621328905; _hjid=41b92274-ed03-409a-92bf-f48240176e63; ch-veil-id=227033ad-fd7b-4466-8240-0b2c6d55b8e5; lang=ko; global.skin=wh; JSESSIONID=Fp741oT2jO9Xo80wMfxeKTsmSo5TmaPYDUEkZo0U; wa=qMYBot2UGvX9jMkAfilxvE5Y6swVq/ULeqAUluens+QJP7mnnB3t6Q==' \n",
    "\"\"\"\n",
    "\n",
    "url = \"\"\n",
    "headers = {}\n",
    "for (i, l) in enumerate(curlcmdlines.split('\\n')):\n",
    "    l = l.strip()\n",
    "    print(i, l)\n",
    "    if i == 0 and len(l):\n",
    "        fields = l.strip().split()\n",
    "        url = fields[1].strip(\"''\")\n",
    "    elif len(l):\n",
    "        fields = l.strip().split(\"'\")[1].split(': ')\n",
    "        if len(fields) == 2:\n",
    "            headers[fields[0]] = fields[1]\n",
    "r = requests.get(url, headers = headers, verify= False).json()\n",
    "disk_perf = r['/dev/nvme1n1']\n",
    "\n",
    "from datetime import datetime\n",
    "\n",
    "clocks = [datetime.fromtimestamp(int(clock/1000)) for (clock, _) in disk_perf['usedPercent']]\n",
    "usedPercentHistory = [ pct for (_, pct) in disk_perf['usedPercent']]\n",
    "\n",
    "\n"
   ]
  }
 ],
 "metadata": {
  "kernelspec": {
   "display_name": "Python 3",
   "language": "python",
   "name": "python3"
  },
  "language_info": {
   "codemirror_mode": {
    "name": "ipython",
    "version": 3
   },
   "file_extension": ".py",
   "mimetype": "text/x-python",
   "name": "python",
   "nbconvert_exporter": "python",
   "pygments_lexer": "ipython3",
   "version": "3.8.8"
  }
 },
 "nbformat": 4,
 "nbformat_minor": 5
}
