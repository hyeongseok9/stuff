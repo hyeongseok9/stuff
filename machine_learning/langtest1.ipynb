{
 "cells": [
  {
   "cell_type": "code",
   "execution_count": 4,
   "metadata": {},
   "outputs": [
    {
     "name": "stdout",
     "output_type": "stream",
     "text": [
      "(404, 13)\n",
      "(404, 13)\n",
      "(102, 13)\n",
      "(102, 13)\n"
     ]
    }
   ],
   "source": [
    "from keras import datasets\n",
    "from sklearn import preprocessing\n",
    "(X_train, y_train), (X_test, y_test) = datasets.boston_housing.load_data()\n",
    "scaler = preprocessing.MinMaxScaler()\n",
    "print(X_train.shape)\n",
    "X_train = scaler.fit_transform(X_train)\n",
    "print(X_train.shape)\n",
    "print(X_test.shape)\n",
    "X_test= scaler.transform(X_test)\n",
    "print(X_test.shape)\n",
    "\n"
   ]
  },
  {
   "cell_type": "code",
   "execution_count": null,
   "metadata": {},
   "outputs": [],
   "source": []
  }
 ],
 "metadata": {
  "kernelspec": {
   "display_name": "Python 3",
   "language": "python",
   "name": "python3"
  },
  "language_info": {
   "codemirror_mode": {
    "name": "ipython",
    "version": 3
   },
   "file_extension": ".py",
   "mimetype": "text/x-python",
   "name": "python",
   "nbconvert_exporter": "python",
   "pygments_lexer": "ipython3",
   "version": "3.8.5"
  }
 },
 "nbformat": 4,
 "nbformat_minor": 4
}
